{
 "cells": [
  {
   "cell_type": "markdown",
   "metadata": {},
   "source": [
    "# Tweets"
   ]
  },
  {
   "cell_type": "code",
   "execution_count": 285,
   "metadata": {},
   "outputs": [],
   "source": [
    "import pandas as pd\n",
    "import numpy as np\n",
    "import re\n",
    "import string\n",
    "import nltk\n",
    "from sklearn.feature_extraction.text import CountVectorizer"
   ]
  },
  {
   "cell_type": "code",
   "execution_count": 286,
   "metadata": {},
   "outputs": [],
   "source": [
    "raw_tweets = pd.read_json('../01-data-gathering/tweets.json')"
   ]
  },
  {
   "cell_type": "code",
   "execution_count": 287,
   "metadata": {},
   "outputs": [],
   "source": [
    "n = len(raw_tweets.keys()) - 1\n",
    "tweets_l = []\n",
    "for i in range(0, n):\n",
    "    if(raw_tweets[str(i)]['lang'] == 'en'):\n",
    "        tweets_l.append(raw_tweets[str(i)]['text'])\n",
    "tweets_l = list(dict.fromkeys(tweets_l))"
   ]
  },
  {
   "cell_type": "code",
   "execution_count": 288,
   "metadata": {},
   "outputs": [],
   "source": [
    "#FILTER OUT UNWANTED CHAR\n",
    "tweets_printable = []\n",
    "\n",
    "for text in tweets_l:\n",
    "    new_text=\"\"\n",
    "    for character in text:\n",
    "        if character in string.printable:\n",
    "            new_text+=character\n",
    "    tweets_printable.append(new_text)"
   ]
  },
  {
   "cell_type": "code",
   "execution_count": 289,
   "metadata": {},
   "outputs": [],
   "source": [
    "initial_clean = []\n",
    "\n",
    "for tweet in tweets_printable:\n",
    "    clean = re.sub(r\"@[A-Za-z0-9_]+\", \"\", tweet)\n",
    "    clean = re.sub(r'http\\S+', \"\", clean)\n",
    "    clean = re.sub(r'https\\S+', \"\", clean)\n",
    "    clean = re.sub(r'www\\S+', \"\", clean)\n",
    "    clean = clean.strip()\n",
    "    initial_clean.append(clean)"
   ]
  },
  {
   "cell_type": "code",
   "execution_count": 290,
   "metadata": {},
   "outputs": [],
   "source": [
    "tweets_hashtags = []\n",
    "for tweet in initial_clean:\n",
    "    hashtags = re.findall(\"#([a-zA-Z0-9_]{1,50})\", tweet)\n",
    "    if hashtags:\n",
    "        tweets_hashtags.append(hashtags)"
   ]
  },
  {
   "cell_type": "code",
   "execution_count": 291,
   "metadata": {},
   "outputs": [],
   "source": [
    "flat_list = [hashtag for sublist in tweets_hashtags for hashtag in sublist]"
   ]
  },
  {
   "cell_type": "code",
   "execution_count": 292,
   "metadata": {},
   "outputs": [],
   "source": [
    "stop = nltk.corpus.stopwords.words('english')\n",
    "\n",
    "tokenized = [nltk.tokenize.word_tokenize(tweet.lower().strip()) for tweet in flat_list]\n",
    "no_stopwords = []\n",
    "\n",
    "for tweet in tokenized:\n",
    "    for word in tweet:\n",
    "        if word not in stop:\n",
    "            no_stopwords.append(word)\n",
    "\n",
    "# ref: https://stackoverflow.com/questions/10017147/removing-a-list-of-characters-in-string\n",
    "to_remove = [\".\",\",\",\"!\",\"?\",\":\",\";\",\"_\"]\n",
    "cleaned_tweets = [tweet.translate({ord(x): '' for x in to_remove}) for tweet in no_stopwords]"
   ]
  },
  {
   "cell_type": "code",
   "execution_count": 293,
   "metadata": {},
   "outputs": [],
   "source": [
    "vectorizer=CountVectorizer()   \n",
    "\n",
    "Xs  =  vectorizer.fit_transform(cleaned_tweets)   \n",
    "tweets = pd.DataFrame.from_dict(vectorizer.vocabulary_, orient='index')\n",
    "tweets.reset_index(inplace=True)\n",
    "tweets.columns = ['Word', 'Count']"
   ]
  },
  {
   "cell_type": "code",
   "execution_count": 294,
   "metadata": {},
   "outputs": [],
   "source": [
    "tweets.replace('', np.nan, inplace=True)\n",
    "tweets.dropna(inplace=True)\n",
    "tweets.sort_values('Count', ascending=False, inplace=True)"
   ]
  },
  {
   "cell_type": "code",
   "execution_count": 295,
   "metadata": {},
   "outputs": [],
   "source": [
    "tweets.to_csv('./../../data/01-modified-data/Tweets_final.csv')"
   ]
  }
 ],
 "metadata": {
  "kernelspec": {
   "display_name": "Python 3.10.4 ('ANLY501')",
   "language": "python",
   "name": "python3"
  },
  "language_info": {
   "codemirror_mode": {
    "name": "ipython",
    "version": 3
   },
   "file_extension": ".py",
   "mimetype": "text/x-python",
   "name": "python",
   "nbconvert_exporter": "python",
   "pygments_lexer": "ipython3",
   "version": "3.10.4"
  },
  "orig_nbformat": 4,
  "vscode": {
   "interpreter": {
    "hash": "ea9dbe9f1ceea520258f7c79d3032f6041e6e0b09a8802a98b59f7606cb93a48"
   }
  }
 },
 "nbformat": 4,
 "nbformat_minor": 2
}
