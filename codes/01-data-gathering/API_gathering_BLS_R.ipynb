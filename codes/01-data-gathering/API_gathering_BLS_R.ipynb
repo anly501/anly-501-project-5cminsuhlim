{
 "cells": [
  {
   "cell_type": "markdown",
   "metadata": {},
   "source": [
    "# Data Gathering (Bureau of Labor Statistics) - R"
   ]
  },
  {
   "cell_type": "markdown",
   "metadata": {},
   "source": [
    "### Import libraries"
   ]
  },
  {
   "cell_type": "code",
   "execution_count": null,
   "metadata": {
    "vscode": {
     "languageId": "r"
    }
   },
   "outputs": [],
   "source": [
    "## NOTE:\n",
    "## You will need your own Bureau of Labor Statistics API Key in .Renviron\n",
    "## prior to being able to run this code.\n",
    "## ref: https://github.com/keberwein/blscrapeR\n",
    "\n",
    "library(blscrapeR)\n",
    "library(tidyverse)"
   ]
  },
  {
   "cell_type": "markdown",
   "metadata": {},
   "source": [
    "### Create API call and export data"
   ]
  },
  {
   "cell_type": "code",
   "execution_count": null,
   "metadata": {
    "vscode": {
     "languageId": "r"
    }
   },
   "outputs": [],
   "source": [
    "# Employment Rate (Total, Men, Women) (seasonally adjusted)\n",
    "emp_rate_df <- bls_api(c(\"LNS12300000\", \"LNS12300001\", \"LNS12300002\"), \n",
    "                       startyear = 1948, endyear = 2022,\n",
    "                       registrationKey = Sys.getenv(\"BLS_KEY\")) %>%\n",
    "        spread(seriesID, value) %>% dateCast()\n",
    "\n",
    "# 16-24 (Men, Women) (seasonally adjusted)\n",
    "emp_rate_16_to_24_df <- bls_api(c(\"LNS12324885\", \"LNS12324886\"), \n",
    "                                startyear = 1948, endyear = 2022,\n",
    "                                registrationKey = Sys.getenv(\"BLS_KEY\")) %>%\n",
    "        spread(seriesID, value) %>% dateCast()\n",
    "\n",
    "# 25-34 (Men, Women) (seasonally adjusted)\n",
    "emp_rate_25_to_34_df <- bls_api(c(\"LNS12300164\", \"LNS12300327\"), \n",
    "                                startyear = 1948, endyear = 2022,\n",
    "                                registrationKey = Sys.getenv(\"BLS_KEY\")) %>%\n",
    "        spread(seriesID, value) %>% dateCast()\n",
    "\n",
    "# 35-44 (Men, Women) (seasonally adjusted)\n",
    "emp_rate_35_to_44_df <- bls_api(c(\"LNS12300173\", \"LNS12300334\"), \n",
    "                                startyear = 1948, endyear = 2022,\n",
    "                                registrationKey = Sys.getenv(\"BLS_KEY\")) %>%\n",
    "        spread(seriesID, value) %>% dateCast()\n",
    "\n",
    "# 45-54 (Men, Women) (seasonally adjusted)\n",
    "emp_rate_45_to_54_df <- bls_api(c(\"LNS12300182\", \"LNS12300341\"), \n",
    "                                startyear = 1948, endyear = 2022,\n",
    "                                registrationKey = Sys.getenv(\"BLS_KEY\")) %>%\n",
    "        spread(seriesID, value) %>% dateCast()\n",
    "\n",
    "# 55+ (Men, Women) (seasonally adjusted)\n",
    "emp_rate_55_df <- bls_api(c(\"LNS12324231\", \"LNS12324232\"), \n",
    "                                startyear = 1948, endyear = 2022,\n",
    "                                registrationKey = Sys.getenv(\"BLS_KEY\")) %>%\n",
    "        spread(seriesID, value) %>% dateCast()\n",
    "\n",
    "write.csv(emp_rate_df, \"employmentRate.csv\", row.names = FALSE)\n",
    "write.csv(emp_rate_16_to_24_df, \"employmentRate16to24.csv\", row.names = FALSE)\n",
    "write.csv(emp_rate_25_to_34_df, \"employmentRate25to34.csv\", row.names = FALSE)\n",
    "write.csv(emp_rate_35_to_44_df, \"employmentRate35to44.csv\", row.names = FALSE)\n",
    "write.csv(emp_rate_45_to_54_df, \"employmentRate45to54.csv\", row.names = FALSE)\n",
    "write.csv(emp_rate_55_df, \"employmentRate55+.csv\", row.names = FALSE)"
   ]
  }
 ],
 "metadata": {
  "language_info": {
   "name": "python"
  },
  "orig_nbformat": 4
 },
 "nbformat": 4,
 "nbformat_minor": 2
}
