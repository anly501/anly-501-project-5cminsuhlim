{
 "cells": [
  {
   "cell_type": "markdown",
   "metadata": {},
   "source": [
    "# Wikipedia Crawling"
   ]
  },
  {
   "cell_type": "markdown",
   "metadata": {},
   "source": [
    "### Imports"
   ]
  },
  {
   "cell_type": "code",
   "execution_count": 1,
   "metadata": {},
   "outputs": [
    {
     "name": "stderr",
     "output_type": "stream",
     "text": [
      "c:\\Users\\Eric\\anaconda3\\envs\\ANLY501\\lib\\site-packages\\scipy\\__init__.py:146: UserWarning: A NumPy version >=1.16.5 and <1.23.0 is required for this version of SciPy (detected version 1.23.1\n",
      "  warnings.warn(f\"A NumPy version >={np_minversion} and <{np_maxversion}\"\n"
     ]
    }
   ],
   "source": [
    "import wikipedia\n",
    "import nltk\n",
    "import string \n",
    "from nltk.stem import WordNetLemmatizer\n",
    "from nltk.stem import PorterStemmer\n",
    "from nltk.sentiment import SentimentIntensityAnalyzer\n",
    "import pandas as pd\n",
    "from sklearn.feature_extraction.text import CountVectorizer\n",
    "import numpy as np"
   ]
  },
  {
   "cell_type": "markdown",
   "metadata": {},
   "source": [
    "### Set user parameters"
   ]
  },
  {
   "cell_type": "code",
   "execution_count": 2,
   "metadata": {},
   "outputs": [],
   "source": [
    "# PARAMETERS \n",
    "label_list=[\"Women's rights\", \"Men's rights\"]\n",
    "\n",
    "max_num_pages=30\n",
    "sentence_per_chunk=1\n",
    "min_sentence_length=20\n",
    "\n",
    "# GET STOPWORDS\n",
    "from nltk.corpus import stopwords\n",
    "stop_words=nltk.corpus.stopwords.words('english')\n",
    "\n",
    "# INITALIZE STEMMER+LEMITZIZER+SIA\n",
    "sia = SentimentIntensityAnalyzer()\n",
    "stemmer = PorterStemmer()\n",
    "lemmatizer = WordNetLemmatizer()"
   ]
  },
  {
   "cell_type": "markdown",
   "metadata": {},
   "source": [
    "### Define text cleaning function"
   ]
  },
  {
   "cell_type": "code",
   "execution_count": 3,
   "metadata": {},
   "outputs": [],
   "source": [
    "def clean_string(text):\n",
    "\t# #FILTER OUT UNWANTED CHAR\n",
    "\tnew_text=\"\"\n",
    "\t# keep=string.printable\n",
    "\tkeep=\" abcdefghijklmnopqrstuvwxyz0123456789\"\n",
    "\tfor character in text:\n",
    "\t\tif character.lower() in keep:\n",
    "\t\t\tnew_text+=character.lower()\n",
    "\t\telse: \n",
    "\t\t\tnew_text+=\" \"\n",
    "\ttext=new_text\n",
    "\t# print(text)\n",
    "\n",
    "\t# #FILTER OUT UNWANTED WORDS\n",
    "\tnew_text=\"\"\n",
    "\tfor word in nltk.tokenize.word_tokenize(text):\n",
    "\t\tif word not in stop_words:\n",
    "\t\t\t#lemmatize \n",
    "\t\t\ttmp=lemmatizer.lemmatize(word)\n",
    "\t\t\t# tmp=stemmer.stem(tmp)\n",
    "\n",
    "\t\t\t# update word if there is a change\n",
    "\t\t\t# if(tmp!=word): print(tmp,word)\n",
    "\t\t\t\n",
    "\t\t\tword=tmp\n",
    "\t\t\tif len(word)>1:\n",
    "\t\t\t\tif word in [\".\",\",\",\"!\",\"?\",\":\",\";\"]:\n",
    "\t\t\t\t\t#remove the last space\n",
    "\t\t\t\t\tnew_text=new_text[0:-1]+word+\" \"\n",
    "\t\t\t\telse: #add a space\n",
    "\t\t\t\t\tnew_text+=word.lower()+\" \"\n",
    "\ttext=new_text.strip()\n",
    "\treturn text"
   ]
  },
  {
   "cell_type": "markdown",
   "metadata": {},
   "source": [
    "### Perform Wiki crawl"
   ]
  },
  {
   "cell_type": "code",
   "execution_count": 4,
   "metadata": {},
   "outputs": [
    {
     "name": "stdout",
     "output_type": "stream",
     "text": [
      "Pages for label = Women's rights : [\"Women's rights\", \"Women's rights in Iran\", \"Women's suffrage\", \"Women's rights in Saudi Arabia\", \"Women's rights are human rights\", \"Women's rights movement in Iran\", \"Women's rights in Philippines\", \"International Women's Day\", 'Human rights in Qatar', \"List of women's organizations\", \"Women's suffrage in the United States\", \"Women's empowerment\", \"Women's rights in Brazil\", \"Women's rights in Myanmar\", \"Women's property rights\", 'A Vindication of the Rights of Woman', \"Timeline of women's legal rights (other than voting)\", 'Antifeminism', 'Women in Russia', \"List of women's rights activists\", 'United Nations Commission on the Status of Women', \"Women's rights in Nepal\", 'Seneca Falls Convention', 'Reproductive rights', 'Feminism', '2022 abortion protests', 'Liberal feminism', \"Periyar and women's rights\", 'Human rights in India', \"Men's rights movement\"]\n",
      "\t Women's rights\n",
      "\t Women's rights in Iran\n",
      "\t Women's suffrage\n",
      "\t Women's rights in Saudi Arabia\n",
      "WARNING: SOMETHING WENT WRONG: Women's rights in Saudi Arabia\n",
      "\t Women's rights are human rights\n",
      "\t Women's rights movement in Iran\n",
      "WARNING: SOMETHING WENT WRONG: Women's rights movement in Iran\n",
      "\t Women's rights in Philippines\n",
      "\t International Women's Day\n",
      "\t Human rights in Qatar\n",
      "\t List of women's organizations\n",
      "\t Women's suffrage in the United States\n",
      "WARNING: SOMETHING WENT WRONG: Women's suffrage in the United States\n",
      "\t Women's empowerment\n",
      "\t Women's rights in Brazil\n",
      "\t Women's rights in Myanmar\n",
      "\t Women's property rights\n",
      "\t A Vindication of the Rights of Woman\n",
      "\t Timeline of women's legal rights (other than voting)\n",
      "\t Antifeminism\n",
      "WARNING: SOMETHING WENT WRONG: Antifeminism\n",
      "\t Women in Russia\n",
      "\t List of women's rights activists\n",
      "\t United Nations Commission on the Status of Women\n",
      "\t Women's rights in Nepal\n",
      "\t Seneca Falls Convention\n",
      "\t Reproductive rights\n",
      "\t Feminism\n",
      "\t 2022 abortion protests\n",
      "WARNING: SOMETHING WENT WRONG: 2022 abortion protests\n",
      "\t Liberal feminism\n",
      "WARNING: SOMETHING WENT WRONG: Liberal feminism\n",
      "\t Periyar and women's rights\n",
      "\t Human rights in India\n",
      "\t Men's rights movement\n",
      "Pages for label = Men's rights : [\"Men's rights movement\", \"International Men's Day\", \"Women's rights\", \"Honey badger (men's rights)\", \"Men's rights movement in India\", \"Children's rights\", \"Men's movement\", \"Fathers' rights movement\", 'Men Going Their Own Way', 'Sung Jae-gi', \"Men's liberation movement\", 'Ernest Belfort Bax', 'Men in feminism', 'Reproductive rights', 'Earl Silverman', 'Misandry', 'A Vindication of the Rights of Men', 'The Red Pill', 'Masculism', 'Jill Filipovic', 'Equal rights', 'Cassie Jaye', 'LGBT rights in Australia', 'Gender role', 'Antifeminism', 'Stefan Molyneux', 'Marc Angelucci', 'A Voice for Men', 'Reverse sexism', 'Man']\n",
      "\t Men's rights movement\n",
      "\t International Men's Day\n",
      "WARNING: SOMETHING WENT WRONG: International Men's Day\n",
      "\t Women's rights\n",
      "\t Honey badger (men's rights)\n",
      "\t Men's rights movement in India\n",
      "\t Children's rights\n",
      "WARNING: SOMETHING WENT WRONG: Children's rights\n",
      "\t Men's movement\n",
      "\t Fathers' rights movement\n",
      "\t Men Going Their Own Way\n",
      "\t Sung Jae-gi\n",
      "\t Men's liberation movement\n",
      "\t Ernest Belfort Bax\n",
      "\t Men in feminism\n",
      "\t Reproductive rights\n",
      "\t Earl Silverman\n",
      "\t Misandry\n",
      "\t A Vindication of the Rights of Men\n",
      "WARNING: SOMETHING WENT WRONG: A Vindication of the Rights of Men\n",
      "\t The Red Pill\n",
      "WARNING: SOMETHING WENT WRONG: The Red Pill\n",
      "\t Masculism\n",
      "\t Jill Filipovic\n",
      "\t Equal rights\n",
      "\t Cassie Jaye\n",
      "WARNING: SOMETHING WENT WRONG: Cassie Jaye\n",
      "\t LGBT rights in Australia\n",
      "WARNING: SOMETHING WENT WRONG: LGBT rights in Australia\n",
      "\t Gender role\n",
      "\t Antifeminism\n",
      "WARNING: SOMETHING WENT WRONG: Antifeminism\n",
      "\t Stefan Molyneux\n",
      "\t Marc Angelucci\n",
      "WARNING: SOMETHING WENT WRONG: Marc Angelucci\n",
      "\t A Voice for Men\n",
      "\t Reverse sexism\n",
      "\t Man\n"
     ]
    }
   ],
   "source": [
    "#INITIALIZE \n",
    "corpus=[]  # list of strings (input variables X)\n",
    "targets=[] # list of targets (labels or response variables Y)\n",
    "\n",
    "#--------------------------\n",
    "# LOOP OVER TOPICS \n",
    "#--------------------------\n",
    "for label in label_list:\n",
    "\n",
    "\t#SEARCH FOR RELEVANT PAGES \n",
    "\ttitles=wikipedia.search(label,results=max_num_pages)\n",
    "\tprint(\"Pages for label =\",label,\":\",titles)\n",
    "\n",
    "\t#LOOP OVER WIKI-PAGES\n",
    "\tfor title in titles:\n",
    "\t\ttry:\n",
    "\t\t\tprint(\"\t\",title)\n",
    "\t\t\twiki_page = wikipedia.page(title, auto_suggest=True)\n",
    "\n",
    "\t\t\t# LOOP OVER SECTIONS IN ARTICLE AND GET PAGE TEXT\n",
    "\t\t\tfor section in wiki_page.sections:\n",
    "\t\t\t\ttext=wiki_page.section(section); #print(text)\n",
    "\n",
    "\t\t\t\t#BREAK IN TO SENTENCES \n",
    "\t\t\t\tsentences=nltk.tokenize.sent_tokenize(text)\n",
    "\t\t\t\tcounter=0\n",
    "\t\t\t\ttext_chunk=''\n",
    "\n",
    "\t\t\t\t#LOOP OVER SENTENCES \n",
    "\t\t\t\tfor sentence in sentences:\n",
    "\t\t\t\t\tif len(sentence)>min_sentence_length:\n",
    "\t\t\t\t\t\tif(counter%sentence_per_chunk==0 and counter!=0):\n",
    "\t\t\t\t\t\t\t# PROCESS COMPLETED CHUNK \n",
    "\t\t\t\t\t\t\t\n",
    "\t\t\t\t\t\t\t# CLEAN STRING\n",
    "\t\t\t\t\t\t\ttext_chunk=clean_string(text_chunk)\n",
    "\n",
    "\t\t\t\t\t\t\t# REMOVE LABEL IF IN STRING (MAKES IT TOO EASY)\n",
    "\t\t\t\t\t\t\ttext_chunk=text_chunk.replace(label,\"\")\n",
    "\t\t\t\t\t\t\t\n",
    "\t\t\t\t\t\t\t# REMOVE ANY DOUBLE SPACES\n",
    "\t\t\t\t\t\t\ttext_chunk=' '.join(text_chunk.split()).strip()\n",
    "\n",
    "\t\t\t\t\t\t\t#UPDATE CORPUS \n",
    "\t\t\t\t\t\t\tcorpus.append(text_chunk)\n",
    "\n",
    "\t\t\t\t\t\t\t#UPDATE TARGETS\n",
    "\t\t\t\t\t\t\tscore=sia.polarity_scores(text_chunk)\n",
    "\t\t\t\t\t\t\ttarget=[label,score['compound']]\n",
    "\t\t\t\t\t\t\ttargets.append(target)\n",
    "\n",
    "\t\t\t\t\t\t\t#print(\"TEXT\\n\",text_chunk,target)\n",
    "\n",
    "\t\t\t\t\t\t\t# RESET CHUNK FOR NEXT ITERATION \n",
    "\t\t\t\t\t\t\ttext_chunk=sentence\n",
    "\t\t\t\t\t\telse:\n",
    "\t\t\t\t\t\t\ttext_chunk+=sentence\n",
    "\t\t\t\t\t\t#print(\"--------\\n\", sentence)\n",
    "\t\t\t\t\t\tcounter+=1\n",
    "\n",
    "\t\texcept:\n",
    "\t\t\tprint(\"WARNING: SOMETHING WENT WRONG:\", title);  \n"
   ]
  },
  {
   "cell_type": "markdown",
   "metadata": {},
   "source": [
    "### Save results"
   ]
  },
  {
   "cell_type": "code",
   "execution_count": 5,
   "metadata": {},
   "outputs": [
    {
     "name": "stdout",
     "output_type": "stream",
     "text": [
      "number of text chunks =  6777\n",
      "number of targets =  6777\n",
      "                                                   text           label  \\\n",
      "0     employment right woman include non discriminat...  Women's rights   \n",
      "1     right woman men equal pay equal benefit equal ...  Women's rights   \n",
      "2     leslie wah leung chung 1917 2009 president hon...  Women's rights   \n",
      "3     job status woman changed permanent employee te...  Women's rights   \n",
      "4                                         even lost job  Women's rights   \n",
      "...                                                 ...             ...   \n",
      "6772  may 10 child day maldives confederate memorial...    Men's rights   \n",
      "6773  liberation day sark commemorating end german o...    Men's rights   \n",
      "6774  may 11 national technology day india statehood...    Men's rights   \n",
      "6775  izumo taisha japan national unification day li...    Men's rights   \n",
      "6776  end june 15 army day slovenia constituent asse...    Men's rights   \n",
      "\n",
      "      sentiment  \n",
      "0       -0.1027  \n",
      "1       -0.0772  \n",
      "2       -0.1027  \n",
      "3        0.1027  \n",
      "4       -0.3182  \n",
      "...         ...  \n",
      "6772     0.5719  \n",
      "6773    -0.5994  \n",
      "6774     0.8316  \n",
      "6775     0.0000  \n",
      "6776     0.8779  \n",
      "\n",
      "[6777 rows x 3 columns]\n"
     ]
    }
   ],
   "source": [
    "#SANITY CHECKS AND PRINT TO FILE \n",
    "print(\"number of text chunks = \",len(corpus))\n",
    "print(\"number of targets = \",len(targets))\n",
    "\n",
    "tmp=[]\n",
    "for i in range(0,len(corpus)):\n",
    "    tmp.append([corpus[i],targets[i][0],targets[i][1]])\n",
    "df=pd.DataFrame(tmp)\n",
    "df=df.rename(columns={0: \"text\", 1: \"label\", 2: \"sentiment\"})\n",
    "print(df)\n",
    "df.to_csv('wiki-crawl-results-arm.csv',index=False)"
   ]
  }
 ],
 "metadata": {
  "kernelspec": {
   "display_name": "Python 3.10.4 ('ANLY501')",
   "language": "python",
   "name": "python3"
  },
  "language_info": {
   "codemirror_mode": {
    "name": "ipython",
    "version": 3
   },
   "file_extension": ".py",
   "mimetype": "text/x-python",
   "name": "python",
   "nbconvert_exporter": "python",
   "pygments_lexer": "ipython3",
   "version": "3.10.4"
  },
  "orig_nbformat": 4,
  "vscode": {
   "interpreter": {
    "hash": "eadb65a309ebe0989826d71328347ef52d129ca1bd9af521e4d4f3d539f018a5"
   }
  }
 },
 "nbformat": 4,
 "nbformat_minor": 2
}
