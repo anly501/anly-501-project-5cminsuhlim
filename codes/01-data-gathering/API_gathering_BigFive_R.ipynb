{
 "cells": [
  {
   "cell_type": "markdown",
   "metadata": {},
   "source": [
    "# Data Gathering (Big Five GitHub) - R"
   ]
  },
  {
   "cell_type": "markdown",
   "metadata": {},
   "source": [
    "### Import libraries"
   ]
  },
  {
   "cell_type": "code",
   "execution_count": null,
   "metadata": {},
   "outputs": [],
   "source": [
    "library (readr)"
   ]
  },
  {
   "cell_type": "markdown",
   "metadata": {},
   "source": [
    "### Create API call and export data"
   ]
  },
  {
   "cell_type": "code",
   "execution_count": null,
   "metadata": {},
   "outputs": [],
   "source": [
    "raw_url = \"https://raw.githubusercontent.com/automoto/big-five-data/master/big_five_scores.csv\"\n",
    "\n",
    "big_five_df <- read_csv(url(raw_url))\n",
    "write.csv(big_five_df, \"big_five.csv\", row.names = FALSE)"
   ]
  }
 ],
 "metadata": {
  "kernelspec": {
   "display_name": "Python 3.9.12 ('base')",
   "language": "python",
   "name": "python3"
  },
  "language_info": {
   "name": "python",
   "version": "3.9.12"
  },
  "orig_nbformat": 4,
  "vscode": {
   "interpreter": {
    "hash": "66cb82efb67329302d3f747106a632c7db0601bc9483ecc21c622542c462cef2"
   }
  }
 },
 "nbformat": 4,
 "nbformat_minor": 2
}
