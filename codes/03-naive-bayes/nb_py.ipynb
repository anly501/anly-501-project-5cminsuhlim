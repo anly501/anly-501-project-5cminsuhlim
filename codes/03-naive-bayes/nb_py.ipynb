{
 "cells": [
  {
   "cell_type": "markdown",
   "metadata": {},
   "source": [
    "### Imports"
   ]
  },
  {
   "cell_type": "code",
   "execution_count": 2,
   "metadata": {},
   "outputs": [
    {
     "name": "stderr",
     "output_type": "stream",
     "text": [
      "c:\\Users\\Eric\\anaconda3\\envs\\ANLY501\\lib\\site-packages\\scipy\\__init__.py:146: UserWarning: A NumPy version >=1.16.5 and <1.23.0 is required for this version of SciPy (detected version 1.23.1\n",
      "  warnings.warn(f\"A NumPy version >={np_minversion} and <{np_maxversion}\"\n"
     ]
    }
   ],
   "source": [
    "import matplotlib.pyplot as plt\n",
    "import pandas as pd\n",
    "from sklearn.feature_extraction.text import CountVectorizer\n",
    "import numpy as np\n",
    "from sklearn.metrics import accuracy_score"
   ]
  },
  {
   "cell_type": "markdown",
   "metadata": {},
   "source": [
    "### Read and re-format"
   ]
  },
  {
   "cell_type": "code",
   "execution_count": 3,
   "metadata": {},
   "outputs": [
    {
     "name": "stdout",
     "output_type": "stream",
     "text": [
      "(420, 3)\n",
      "index = 0 : label = Women's rights\n",
      "index = 1 : label = Men's rights\n",
      "number of text chunks =  420\n",
      "['employment right woman include non discriminatory access woman job equal pay right woman men equal pay equal benefit equal work openly denied british hong kong government early 1970s leslie wah leung chung 1917 2009 president hong kong chinese civil servant association 1965 68 contributed establishment equal pay men woman including right married woman permanent employee job status woman changed permanent employee temporary employee married thus losing pension benefit even lost job since nurse mostly woman improvement right married woman meant much nursing profession european country married woman could work without consent husband decade ago example france 1965 spain 1975 addition marriage bar practice adopted late 19th century 1970s across many country including austria australia ireland canada switzerland restricted married woman employment many profession key issue towards insuring gender equality workplace respecting maternity right reproductive right woman maternity leave paternity leave country parental leave temporary period absence employment granted immediately childbirth order support mother full recovery grant time care baby different country different rule regarding maternity leave paternity leave parental leave', '19th century woman began ask demand agitate demonstrate right vote right participate government law making woman opposed suffrage like helen kendrick johnson argued 1897 pamphlet woman republic woman could achieve legal economic equality without vote ideal woman suffrage developed alongside universal suffrage today woman suffrage considered right convention elimination form discrimination woman 19th century right vote gradually extended many country woman started campaign right vote 1893 new zealand became first country give woman right vote national level australia gave woman right vote 1902 number nordic country gave woman right vote early 20th century finland 1906 norway 1913 denmark iceland 1915 end first world war many country followed netherlands 1917 austria azerbaijan canada czechoslovakia georgia poland sweden 1918 germany luxembourg 1919 turkey 1934 united state 1920 late adopter europe greece 1952 switzerland 1971 federal level 1959 1991 local issue canton level portugal 1976 equal term men restriction since 1931 well microstates san marino 1959 monaco 1962 andorra 1970 liechtenstein 1984 canada province enacted woman suffrage 1917 1919 late adopter prince edward island 1922 newfoundland 1925 quebec 1940 latin america country gave woman right vote first half 20th century ecuador 1929 brazil 1932 el salvador 1939 dominican republic 1942 guatemala 1956 argentina 1946 india colonial rule universal suffrage granted 1935 asian country gave woman right vote mid 20th century japan 1945 china 1947 indonesia 1955', 'woman right movement focus ending discrimination woman regard definition discrimination important according jurisprudence echr right freedom discrimination includes obligation state treat way person analogous situation also obligation treat different way person different situation regard equity equality important therefore state must sometimes differentiate woman men example offering maternity leave legal protection surrounding pregnancy childbirth take account biological reality reproduction acknowledging specific historical context example act violence committed men woman happen vacuum part social context opuz turkey echr defined violence woman form discrimination woman also position istanbul convention article state violence woman understood violation human right form discrimination woman different view appropriate differentiate woman men one view act sexual intercourse act difference must acknowledged due increased physical risk woman due historical context woman systematically subjected forced sexual intercourse socially subordinated position particularly within marriage war state must also differentiate regard healthcare ensuring woman health particularly regard reproductive health pregnancy childbirth neglected according world health organization discrimination health care setting take many form often manifested individual group denied access health care service otherwise available others also occur denial service needed certain group woman refusal state acknowledge specific need woman necessity specific policy like strong investment state reducing maternal mortality form discrimination']\n"
     ]
    }
   ],
   "source": [
    "#RELOAD FILE AND PRETEND THAT IS OUR STARTING POINT \n",
    "df=pd.read_csv('../../data/00-raw-data/wiki-crawl-results.csv')  \n",
    "print(df.shape)\n",
    "\n",
    "#CONVERT FROM STRING LABELS TO INTEGERS \n",
    "labels=[]; #y1=[]; y2=[]\n",
    "y1=[]\n",
    "for label in df[\"label\"]:\n",
    "    if label not in labels:\n",
    "        labels.append(label)\n",
    "        print(\"index =\",len(labels)-1,\": label =\",label)\n",
    "    for i in range(0,len(labels)):\n",
    "        if(label==labels[i]):\n",
    "            y1.append(i)\n",
    "y1=np.array(y1)\n",
    "\n",
    "# CONVERT DF TO LIST OF STRINGS \n",
    "corpus=df[\"text\"].to_list()\n",
    "y2=df[\"sentiment\"].to_numpy()\n",
    "\n",
    "print(\"number of text chunks = \",len(corpus))\n",
    "print(corpus[0:3])\n"
   ]
  },
  {
   "cell_type": "markdown",
   "metadata": {},
   "source": [
    "### Vectorize the text data"
   ]
  },
  {
   "cell_type": "code",
   "execution_count": 4,
   "metadata": {},
   "outputs": [
    {
     "name": "stdout",
     "output_type": "stream",
     "text": [
      "(420, 9960) (420,) (420,)\n",
      "DATA POINT-0: [0. 0. 0. 0. 0. 0. 0. 0. 0. 0.] y1 = 0   y2 = 0.7983\n"
     ]
    }
   ],
   "source": [
    "# INITIALIZE COUNT VECTORIZER\n",
    "# minDF = 0.01 means \"ignore terms that appear in less than 1% of the documents\". \n",
    "# minDF = 5 means \"ignore terms that appear in less than 5 documents\".\n",
    "vectorizer=CountVectorizer(min_df=0.001)   \n",
    "\n",
    "# RUN COUNT VECTORIZER ON OUR COURPUS \n",
    "Xs  =  vectorizer.fit_transform(corpus)   \n",
    "X=np.array(Xs.todense())\n",
    "\n",
    "#CONVERT TO ONE-HOT VECTORS\n",
    "maxs=np.max(X,axis=0)\n",
    "X=np.ceil(X/maxs)\n",
    "\n",
    "# DOUBLE CHECK \n",
    "print(X.shape,y1.shape,y2.shape)\n",
    "print(\"DATA POINT-0:\",X[0,0:10],\"y1 =\",y1[0],\"  y2 =\",y2[0])"
   ]
  },
  {
   "cell_type": "markdown",
   "metadata": {},
   "source": [
    "### Partition Data\n"
   ]
  },
  {
   "cell_type": "code",
   "execution_count": 5,
   "metadata": {},
   "outputs": [
    {
     "name": "stdout",
     "output_type": "stream",
     "text": [
      "x_train.shape\t\t: (336, 9960)\n",
      "y_train.shape\t\t: (336,)\n",
      "X_test.shape\t\t: (84, 9960)\n",
      "y_test.shape\t\t: (84,)\n"
     ]
    }
   ],
   "source": [
    "# INSERT CODE TO PARTITION DATASET INTO TRAINING-TEST\n",
    "\n",
    "from sklearn.model_selection import train_test_split\n",
    "test_ratio=0.2\n",
    "\n",
    "# SPLIT ARRAYS OR MATRICES INTO RANDOM TRAIN AND TEST SUBSETS.\n",
    "x_train, x_test, y_train, y_test = train_test_split(X, y1, test_size=test_ratio, random_state=0)\n",
    "y_train=y_train.flatten()\n",
    "y_test=y_test.flatten()\n",
    "\n",
    "print(\"x_train.shape\t\t:\",x_train.shape)\n",
    "print(\"y_train.shape\t\t:\",y_train.shape)\n",
    "\n",
    "print(\"X_test.shape\t\t:\",x_test.shape)\n",
    "print(\"y_test.shape\t\t:\",y_test.shape)"
   ]
  },
  {
   "cell_type": "markdown",
   "metadata": {},
   "source": [
    "### Train model"
   ]
  },
  {
   "cell_type": "code",
   "execution_count": 6,
   "metadata": {},
   "outputs": [],
   "source": [
    "## helper functions\n",
    "def report(y,ypred):\n",
    "      #ACCURACY COMPUTE \n",
    "      print(\"Accuracy:\",accuracy_score(y, ypred)*100)\n",
    "      print(\"Number of mislabeled points out of a total %d points = %d\"\n",
    "            % (y.shape[0], (y != ypred).sum()))\n",
    "\n",
    "def print_model_summary():\n",
    "      # LABEL PREDICTIONS FOR TRAINING AND TEST SET \n",
    "      yp_train = model.predict(x_train)\n",
    "      yp_test = model.predict(x_test)\n",
    "\n",
    "      print(\"ACCURACY CALCULATION\\n\")\n",
    "\n",
    "      print(\"TRAINING SET:\")\n",
    "      report(y_train,yp_train)\n",
    "\n",
    "      print(\"\\nTEST SET (UNTRAINED DATA):\")\n",
    "      report(y_test,yp_test)\n",
    "\n",
    "      print(\"\\nCHECK FIRST 20 PREDICTIONS\")\n",
    "      print(\"TRAINING SET:\")\n",
    "      print(y_train[0:20])\n",
    "      print(yp_train[0:20])\n",
    "      print(\"ERRORS:\",yp_train[0:20]-y_train[0:20])\n",
    "\n",
    "      print(\"\\nTEST SET (UNTRAINED DATA):\")\n",
    "      print(y_test[0:20])\n",
    "      print(yp_test[0:20])\n",
    "      print(\"ERRORS:\",yp_test[0:20]-y_test[0:20])"
   ]
  },
  {
   "cell_type": "code",
   "execution_count": 7,
   "metadata": {},
   "outputs": [
    {
     "name": "stdout",
     "output_type": "stream",
     "text": [
      "ACCURACY CALCULATION\n",
      "\n",
      "TRAINING SET:\n",
      "Accuracy: 97.32142857142857\n",
      "Number of mislabeled points out of a total 336 points = 9\n",
      "\n",
      "TEST SET (UNTRAINED DATA):\n",
      "Accuracy: 82.14285714285714\n",
      "Number of mislabeled points out of a total 84 points = 15\n",
      "\n",
      "CHECK FIRST 20 PREDICTIONS\n",
      "TRAINING SET:\n",
      "[0 0 1 0 0 1 0 0 1 0 0 0 0 0 0 0 0 1 0 0]\n",
      "[0 0 1 0 1 1 0 0 1 0 0 0 0 0 0 0 0 1 0 0]\n",
      "ERRORS: [0 0 0 0 1 0 0 0 0 0 0 0 0 0 0 0 0 0 0 0]\n",
      "\n",
      "TEST SET (UNTRAINED DATA):\n",
      "[0 1 0 0 0 0 0 0 0 1 0 0 0 0 1 0 0 1 1 1]\n",
      "[0 1 0 0 0 0 0 1 0 1 0 0 0 0 1 0 0 1 1 0]\n",
      "ERRORS: [ 0  0  0  0  0  0  0  1  0  0  0  0  0  0  0  0  0  0  0 -1]\n"
     ]
    }
   ],
   "source": [
    "from sklearn.naive_bayes import MultinomialNB\n",
    "\n",
    "# INITIALIZE MODEL \n",
    "model = MultinomialNB()\n",
    "\n",
    "# TRAIN MODEL \n",
    "model.fit(x_train,y_train)\n",
    "\n",
    "# PRINT REPORT USING UTILITY FUNCTION ABOVE\n",
    "print_model_summary()"
   ]
  }
 ],
 "metadata": {
  "kernelspec": {
   "display_name": "Python 3.10.4 ('ANLY501')",
   "language": "python",
   "name": "python3"
  },
  "language_info": {
   "codemirror_mode": {
    "name": "ipython",
    "version": 3
   },
   "file_extension": ".py",
   "mimetype": "text/x-python",
   "name": "python",
   "nbconvert_exporter": "python",
   "pygments_lexer": "ipython3",
   "version": "3.10.4"
  },
  "orig_nbformat": 4,
  "vscode": {
   "interpreter": {
    "hash": "eadb65a309ebe0989826d71328347ef52d129ca1bd9af521e4d4f3d539f018a5"
   }
  }
 },
 "nbformat": 4,
 "nbformat_minor": 2
}
