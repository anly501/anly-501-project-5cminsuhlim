{
 "cells": [
  {
   "cell_type": "markdown",
   "metadata": {},
   "source": [
    "# Naive Bayes of Big Five Personality Data"
   ]
  },
  {
   "cell_type": "markdown",
   "metadata": {},
   "source": [
    "### Load needed packages"
   ]
  },
  {
   "cell_type": "code",
   "execution_count": null,
   "metadata": {},
   "outputs": [],
   "source": [
    "library(ggplot2)\n",
    "library(tidyverse)\n",
    "library(e1071)\n",
    "library(caTools)\n",
    "library(caret)\n",
    "library(naivebayes)"
   ]
  },
  {
   "cell_type": "markdown",
   "metadata": {},
   "source": [
    "### Read in data"
   ]
  },
  {
   "cell_type": "code",
   "execution_count": null,
   "metadata": {},
   "outputs": [],
   "source": [
    "df <- read.csv('../../data/01-modified-data/big_five_final.csv')\n",
    "df <- df %>% select(-c(age, case_id, country)) %>%\n",
    "        mutate(sex = factor(ifelse(sex == 1, 'Male', 'Female')))\n",
    "df$sex <- as.factor(df$sex)\n",
    "df_m <- df %>% filter(sex=='Male')\n",
    "df_f <- df %>% filter(sex=='Female')"
   ]
  },
  {
   "cell_type": "markdown",
   "metadata": {},
   "source": [
    "### Split data"
   ]
  },
  {
   "cell_type": "code",
   "execution_count": null,
   "metadata": {},
   "outputs": [],
   "source": [
    "set.seed(123)\n",
    "\n",
    "## ref: https://www.learnbymarketing.com/tutorials/naive-bayes-in-r/\n",
    "split <- sample.split(df, SplitRatio=0.8)\n",
    "train_m <- subset(df_m, split=='TRUE')\n",
    "test_m <- subset(df_m, split=='FALSE')\n",
    "train_f <- subset(df_f, split=='TRUE')\n",
    "test_f <- subset(df_f, split=='FALSE')\n",
    "train <- rbind(train_m, train_f)\n",
    "test <- rbind(test_m, test_f)"
   ]
  },
  {
   "cell_type": "markdown",
   "metadata": {},
   "source": [
    "### Generate classifier and confusion matrix"
   ]
  },
  {
   "cell_type": "code",
   "execution_count": null,
   "metadata": {},
   "outputs": [],
   "source": [
    "classifier <- naiveBayes(sex ~ ., data=train)\n",
    "modelPred <- predict(classifier, test)\n",
    "confusion <- table(modelPred, test$sex)\n",
    "confusionMatrix(confusion)"
   ]
  },
  {
   "cell_type": "markdown",
   "metadata": {},
   "source": [
    "### Graphically represent confusion matrix"
   ]
  },
  {
   "cell_type": "code",
   "execution_count": null,
   "metadata": {},
   "outputs": [],
   "source": [
    "## ref: https://stackoverflow.com/questions/37897252/plot-confusion-matrix-in-r-using-ggplot\n",
    "Target <- factor(c('Male', 'Male', 'Female', 'Female'))\n",
    "Prediction <- factor(c(0, 1, 0, 1))\n",
    "Y      <- c(18287, 8375, 39694, 4519)\n",
    "df <- data.frame(Target, Prediction, Y)\n",
    "ggplot(df, aes(x = Target, y = Prediction)) +\n",
    "        geom_tile(aes(fill = Y), color = \"white\") +\n",
    "        geom_text(aes(label = sprintf(\"%1.0f\", Y)), vjust = 1) +\n",
    "        scale_fill_gradient(low = \"lightblue\", high = \"salmon\") +\n",
    "        scale_x_discrete(labels=c(\"Female\",\"Male\")) +\n",
    "        scale_y_discrete(labels=c(\"Female\",\"Male\")) +\n",
    "        labs(title = 'Confusion Matrix') + \n",
    "        theme_bw() + \n",
    "        theme(legend.position = \"none\", plot.title = element_text(hjust = 0.5))"
   ]
  },
  {
   "cell_type": "markdown",
   "metadata": {},
   "source": [
    "### Graphically represent marginal probabilities"
   ]
  },
  {
   "cell_type": "code",
   "execution_count": null,
   "metadata": {},
   "outputs": [],
   "source": [
    "big5 <- naive_bayes(as.factor(sex) ~., data=train)\n",
    "plot(big5, vars = c(\"agreeable_score\",\"extraversion_score\",\"openness_score\",\n",
    "                    \"conscientiousness_score\",\"neuroticism_score\"))"
   ]
  }
 ],
 "metadata": {
  "kernelspec": {
   "display_name": "Python 3.10.2 64-bit",
   "language": "python",
   "name": "python3"
  },
  "language_info": {
   "name": "python",
   "version": "3.10.2"
  },
  "orig_nbformat": 4,
  "vscode": {
   "interpreter": {
    "hash": "95fdccadc19a0f65822d623050cd523e720c8acded4bbf75a9b4d467dbeca47f"
   }
  }
 },
 "nbformat": 4,
 "nbformat_minor": 2
}
