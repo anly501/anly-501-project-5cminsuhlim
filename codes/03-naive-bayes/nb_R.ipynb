{
 "cells": [
  {
   "cell_type": "markdown",
   "metadata": {},
   "source": [
    "# Naive Bayes of Big Five Personality Data"
   ]
  },
  {
   "cell_type": "markdown",
   "metadata": {},
   "source": [
    "### Load needed packages"
   ]
  },
  {
   "cell_type": "code",
   "execution_count": null,
   "metadata": {},
   "outputs": [],
   "source": [
    "library(ggplot2)\n",
    "library(tidyverse)\n",
    "library(e1071)\n",
    "library(caTools)\n",
    "library(caret)\n",
    "library(naivebayes)\n",
    "library(klaR)"
   ]
  },
  {
   "cell_type": "markdown",
   "metadata": {},
   "source": [
    "### Read in data"
   ]
  },
  {
   "cell_type": "code",
   "execution_count": null,
   "metadata": {},
   "outputs": [],
   "source": [
    "df <- read.csv('../../data/01-modified-data/big_five_final.csv')\n",
    "df <- df %>% dplyr::select(-c(age, case_id, country)) %>%\n",
    "        mutate(sex = factor(ifelse(sex == 1, 'Male', 'Female')))\n",
    "df$sex <- as.factor(df$sex)"
   ]
  },
  {
   "cell_type": "markdown",
   "metadata": {},
   "source": [
    "### Split data"
   ]
  },
  {
   "cell_type": "code",
   "execution_count": null,
   "metadata": {},
   "outputs": [],
   "source": [
    "set.seed(123)\n",
    "\n",
    "## ref: https://www.learnbymarketing.com/tutorials/naive-bayes-in-r/\n",
    "split <- sample.split(df, SplitRatio=0.8)\n",
    "train <- subset(df, split=='TRUE')\n",
    "test <- subset(df, split=='FALSE')"
   ]
  },
  {
   "cell_type": "markdown",
   "metadata": {},
   "source": [
    "### Generate classifier and confusion matrix"
   ]
  },
  {
   "cell_type": "code",
   "execution_count": null,
   "metadata": {},
   "outputs": [],
   "source": [
    "classifier <- naiveBayes(sex ~ ., data=train)\n",
    "modelPred <- predict(classifier, test)\n",
    "confusion <- table(modelPred, test$sex)\n",
    "confusionMatrix(confusion)"
   ]
  },
  {
   "cell_type": "markdown",
   "metadata": {},
   "source": [
    "### Graphically represent confusion matrix"
   ]
  },
  {
   "cell_type": "code",
   "execution_count": null,
   "metadata": {},
   "outputs": [],
   "source": [
    "## ref: https://stackoverflow.com/questions/37897252/plot-confusion-matrix-in-r-using-ggplot\n",
    "Target <- factor(c('Male', 'Male', 'Female', 'Female'))\n",
    "Prediction <- factor(c(0, 1, 0, 1))\n",
    "Y      <- c(26241, 14201, 54263, 7733)\n",
    "df <- data.frame(Target, Prediction, Y)\n",
    "ggplot(df, aes(x = Target, y = Prediction)) +\n",
    "        geom_tile(aes(fill = Y), color = \"white\") +\n",
    "        geom_text(aes(label = sprintf(\"%1.0f\", Y)), vjust = 1) +\n",
    "        scale_fill_gradient(low = \"blue\", high = \"red\") +\n",
    "        scale_x_discrete(labels=c(\"Female\",\"Male\")) +\n",
    "        scale_y_discrete(labels=c(\"Female\",\"Male\")) +\n",
    "        theme_bw() + \n",
    "        theme(legend.position = \"none\")"
   ]
  },
  {
   "cell_type": "markdown",
   "metadata": {},
   "source": [
    "### Marginal probability calculations and plots"
   ]
  },
  {
   "cell_type": "code",
   "execution_count": null,
   "metadata": {},
   "outputs": [],
   "source": [
    "klar <- NaiveBayes(sex ~ ., data = train)\n",
    "plot(klar, vars = c(\"agreeable_score\", \"extraversion_score\", \"openness_score\", \"conscientiousness_score\", \"neuroticism_score\"))"
   ]
  }
 ],
 "metadata": {
  "kernelspec": {
   "display_name": "Python 3.10.4 ('ANLY501')",
   "language": "python",
   "name": "python3"
  },
  "language_info": {
   "name": "python",
   "version": "3.10.4"
  },
  "orig_nbformat": 4,
  "vscode": {
   "interpreter": {
    "hash": "ea9dbe9f1ceea520258f7c79d3032f6041e6e0b09a8802a98b59f7606cb93a48"
   }
  }
 },
 "nbformat": 4,
 "nbformat_minor": 2
}
